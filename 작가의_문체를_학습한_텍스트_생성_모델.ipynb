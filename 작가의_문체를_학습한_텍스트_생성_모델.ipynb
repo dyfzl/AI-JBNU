{
  "nbformat": 4,
  "nbformat_minor": 0,
  "metadata": {
    "colab": {
      "provenance": [],
      "gpuType": "A100",
      "machine_shape": "hm",
      "include_colab_link": true
    },
    "kernelspec": {
      "name": "python3",
      "display_name": "Python 3"
    },
    "language_info": {
      "name": "python"
    },
    "accelerator": "GPU",
    "widgets": {
      "application/vnd.jupyter.widget-state+json": {
        "6dec1f540aff4b19807c70749053e793": {
          "model_module": "@jupyter-widgets/controls",
          "model_name": "HBoxModel",
          "model_module_version": "1.5.0",
          "state": {
            "_dom_classes": [],
            "_model_module": "@jupyter-widgets/controls",
            "_model_module_version": "1.5.0",
            "_model_name": "HBoxModel",
            "_view_count": null,
            "_view_module": "@jupyter-widgets/controls",
            "_view_module_version": "1.5.0",
            "_view_name": "HBoxView",
            "box_style": "",
            "children": [
              "IPY_MODEL_f547aa49f15e4bcca0257b0dae77666c",
              "IPY_MODEL_4e1548f6c45848ea9b8ccdc0ac979a1c",
              "IPY_MODEL_2ec40367cf104f488eca81cd7a434977"
            ],
            "layout": "IPY_MODEL_00101afe6af841c29901fcdffb9f51b5"
          }
        },
        "f547aa49f15e4bcca0257b0dae77666c": {
          "model_module": "@jupyter-widgets/controls",
          "model_name": "HTMLModel",
          "model_module_version": "1.5.0",
          "state": {
            "_dom_classes": [],
            "_model_module": "@jupyter-widgets/controls",
            "_model_module_version": "1.5.0",
            "_model_name": "HTMLModel",
            "_view_count": null,
            "_view_module": "@jupyter-widgets/controls",
            "_view_module_version": "1.5.0",
            "_view_name": "HTMLView",
            "description": "",
            "description_tooltip": null,
            "layout": "IPY_MODEL_41a7a455c92749888a585777c1459c07",
            "placeholder": "​",
            "style": "IPY_MODEL_98b551f0818b418e83b0e6d30b23ba68",
            "value": "Map: 100%"
          }
        },
        "4e1548f6c45848ea9b8ccdc0ac979a1c": {
          "model_module": "@jupyter-widgets/controls",
          "model_name": "FloatProgressModel",
          "model_module_version": "1.5.0",
          "state": {
            "_dom_classes": [],
            "_model_module": "@jupyter-widgets/controls",
            "_model_module_version": "1.5.0",
            "_model_name": "FloatProgressModel",
            "_view_count": null,
            "_view_module": "@jupyter-widgets/controls",
            "_view_module_version": "1.5.0",
            "_view_name": "ProgressView",
            "bar_style": "success",
            "description": "",
            "description_tooltip": null,
            "layout": "IPY_MODEL_1748778df95e43438010429118168d67",
            "max": 13556,
            "min": 0,
            "orientation": "horizontal",
            "style": "IPY_MODEL_4d15636e4c8a461b8962ef29285022bd",
            "value": 13556
          }
        },
        "2ec40367cf104f488eca81cd7a434977": {
          "model_module": "@jupyter-widgets/controls",
          "model_name": "HTMLModel",
          "model_module_version": "1.5.0",
          "state": {
            "_dom_classes": [],
            "_model_module": "@jupyter-widgets/controls",
            "_model_module_version": "1.5.0",
            "_model_name": "HTMLModel",
            "_view_count": null,
            "_view_module": "@jupyter-widgets/controls",
            "_view_module_version": "1.5.0",
            "_view_name": "HTMLView",
            "description": "",
            "description_tooltip": null,
            "layout": "IPY_MODEL_220601e5bb3f4fb9bd6ad88e5945c2a9",
            "placeholder": "​",
            "style": "IPY_MODEL_707c81659f9d4998ad1c12a99a71a770",
            "value": " 13556/13556 [00:07&lt;00:00, 1835.19 examples/s]"
          }
        },
        "00101afe6af841c29901fcdffb9f51b5": {
          "model_module": "@jupyter-widgets/base",
          "model_name": "LayoutModel",
          "model_module_version": "1.2.0",
          "state": {
            "_model_module": "@jupyter-widgets/base",
            "_model_module_version": "1.2.0",
            "_model_name": "LayoutModel",
            "_view_count": null,
            "_view_module": "@jupyter-widgets/base",
            "_view_module_version": "1.2.0",
            "_view_name": "LayoutView",
            "align_content": null,
            "align_items": null,
            "align_self": null,
            "border": null,
            "bottom": null,
            "display": null,
            "flex": null,
            "flex_flow": null,
            "grid_area": null,
            "grid_auto_columns": null,
            "grid_auto_flow": null,
            "grid_auto_rows": null,
            "grid_column": null,
            "grid_gap": null,
            "grid_row": null,
            "grid_template_areas": null,
            "grid_template_columns": null,
            "grid_template_rows": null,
            "height": null,
            "justify_content": null,
            "justify_items": null,
            "left": null,
            "margin": null,
            "max_height": null,
            "max_width": null,
            "min_height": null,
            "min_width": null,
            "object_fit": null,
            "object_position": null,
            "order": null,
            "overflow": null,
            "overflow_x": null,
            "overflow_y": null,
            "padding": null,
            "right": null,
            "top": null,
            "visibility": null,
            "width": null
          }
        },
        "41a7a455c92749888a585777c1459c07": {
          "model_module": "@jupyter-widgets/base",
          "model_name": "LayoutModel",
          "model_module_version": "1.2.0",
          "state": {
            "_model_module": "@jupyter-widgets/base",
            "_model_module_version": "1.2.0",
            "_model_name": "LayoutModel",
            "_view_count": null,
            "_view_module": "@jupyter-widgets/base",
            "_view_module_version": "1.2.0",
            "_view_name": "LayoutView",
            "align_content": null,
            "align_items": null,
            "align_self": null,
            "border": null,
            "bottom": null,
            "display": null,
            "flex": null,
            "flex_flow": null,
            "grid_area": null,
            "grid_auto_columns": null,
            "grid_auto_flow": null,
            "grid_auto_rows": null,
            "grid_column": null,
            "grid_gap": null,
            "grid_row": null,
            "grid_template_areas": null,
            "grid_template_columns": null,
            "grid_template_rows": null,
            "height": null,
            "justify_content": null,
            "justify_items": null,
            "left": null,
            "margin": null,
            "max_height": null,
            "max_width": null,
            "min_height": null,
            "min_width": null,
            "object_fit": null,
            "object_position": null,
            "order": null,
            "overflow": null,
            "overflow_x": null,
            "overflow_y": null,
            "padding": null,
            "right": null,
            "top": null,
            "visibility": null,
            "width": null
          }
        },
        "98b551f0818b418e83b0e6d30b23ba68": {
          "model_module": "@jupyter-widgets/controls",
          "model_name": "DescriptionStyleModel",
          "model_module_version": "1.5.0",
          "state": {
            "_model_module": "@jupyter-widgets/controls",
            "_model_module_version": "1.5.0",
            "_model_name": "DescriptionStyleModel",
            "_view_count": null,
            "_view_module": "@jupyter-widgets/base",
            "_view_module_version": "1.2.0",
            "_view_name": "StyleView",
            "description_width": ""
          }
        },
        "1748778df95e43438010429118168d67": {
          "model_module": "@jupyter-widgets/base",
          "model_name": "LayoutModel",
          "model_module_version": "1.2.0",
          "state": {
            "_model_module": "@jupyter-widgets/base",
            "_model_module_version": "1.2.0",
            "_model_name": "LayoutModel",
            "_view_count": null,
            "_view_module": "@jupyter-widgets/base",
            "_view_module_version": "1.2.0",
            "_view_name": "LayoutView",
            "align_content": null,
            "align_items": null,
            "align_self": null,
            "border": null,
            "bottom": null,
            "display": null,
            "flex": null,
            "flex_flow": null,
            "grid_area": null,
            "grid_auto_columns": null,
            "grid_auto_flow": null,
            "grid_auto_rows": null,
            "grid_column": null,
            "grid_gap": null,
            "grid_row": null,
            "grid_template_areas": null,
            "grid_template_columns": null,
            "grid_template_rows": null,
            "height": null,
            "justify_content": null,
            "justify_items": null,
            "left": null,
            "margin": null,
            "max_height": null,
            "max_width": null,
            "min_height": null,
            "min_width": null,
            "object_fit": null,
            "object_position": null,
            "order": null,
            "overflow": null,
            "overflow_x": null,
            "overflow_y": null,
            "padding": null,
            "right": null,
            "top": null,
            "visibility": null,
            "width": null
          }
        },
        "4d15636e4c8a461b8962ef29285022bd": {
          "model_module": "@jupyter-widgets/controls",
          "model_name": "ProgressStyleModel",
          "model_module_version": "1.5.0",
          "state": {
            "_model_module": "@jupyter-widgets/controls",
            "_model_module_version": "1.5.0",
            "_model_name": "ProgressStyleModel",
            "_view_count": null,
            "_view_module": "@jupyter-widgets/base",
            "_view_module_version": "1.2.0",
            "_view_name": "StyleView",
            "bar_color": null,
            "description_width": ""
          }
        },
        "220601e5bb3f4fb9bd6ad88e5945c2a9": {
          "model_module": "@jupyter-widgets/base",
          "model_name": "LayoutModel",
          "model_module_version": "1.2.0",
          "state": {
            "_model_module": "@jupyter-widgets/base",
            "_model_module_version": "1.2.0",
            "_model_name": "LayoutModel",
            "_view_count": null,
            "_view_module": "@jupyter-widgets/base",
            "_view_module_version": "1.2.0",
            "_view_name": "LayoutView",
            "align_content": null,
            "align_items": null,
            "align_self": null,
            "border": null,
            "bottom": null,
            "display": null,
            "flex": null,
            "flex_flow": null,
            "grid_area": null,
            "grid_auto_columns": null,
            "grid_auto_flow": null,
            "grid_auto_rows": null,
            "grid_column": null,
            "grid_gap": null,
            "grid_row": null,
            "grid_template_areas": null,
            "grid_template_columns": null,
            "grid_template_rows": null,
            "height": null,
            "justify_content": null,
            "justify_items": null,
            "left": null,
            "margin": null,
            "max_height": null,
            "max_width": null,
            "min_height": null,
            "min_width": null,
            "object_fit": null,
            "object_position": null,
            "order": null,
            "overflow": null,
            "overflow_x": null,
            "overflow_y": null,
            "padding": null,
            "right": null,
            "top": null,
            "visibility": null,
            "width": null
          }
        },
        "707c81659f9d4998ad1c12a99a71a770": {
          "model_module": "@jupyter-widgets/controls",
          "model_name": "DescriptionStyleModel",
          "model_module_version": "1.5.0",
          "state": {
            "_model_module": "@jupyter-widgets/controls",
            "_model_module_version": "1.5.0",
            "_model_name": "DescriptionStyleModel",
            "_view_count": null,
            "_view_module": "@jupyter-widgets/base",
            "_view_module_version": "1.2.0",
            "_view_name": "StyleView",
            "description_width": ""
          }
        },
        "776856122bcf45f5b91db6c0ba3f188d": {
          "model_module": "@jupyter-widgets/controls",
          "model_name": "HBoxModel",
          "model_module_version": "1.5.0",
          "state": {
            "_dom_classes": [],
            "_model_module": "@jupyter-widgets/controls",
            "_model_module_version": "1.5.0",
            "_model_name": "HBoxModel",
            "_view_count": null,
            "_view_module": "@jupyter-widgets/controls",
            "_view_module_version": "1.5.0",
            "_view_name": "HBoxView",
            "box_style": "",
            "children": [
              "IPY_MODEL_8e240d4a789a47428398f46492f36087",
              "IPY_MODEL_272b73c322254f6bb480392a4edae775",
              "IPY_MODEL_9143e3147b6b41c6ba7c6f5b53c88200"
            ],
            "layout": "IPY_MODEL_fcd5f95aa63441798169146e5fdeaf21"
          }
        },
        "8e240d4a789a47428398f46492f36087": {
          "model_module": "@jupyter-widgets/controls",
          "model_name": "HTMLModel",
          "model_module_version": "1.5.0",
          "state": {
            "_dom_classes": [],
            "_model_module": "@jupyter-widgets/controls",
            "_model_module_version": "1.5.0",
            "_model_name": "HTMLModel",
            "_view_count": null,
            "_view_module": "@jupyter-widgets/controls",
            "_view_module_version": "1.5.0",
            "_view_name": "HTMLView",
            "description": "",
            "description_tooltip": null,
            "layout": "IPY_MODEL_342354b456794f668ee7abb0d0e227e6",
            "placeholder": "​",
            "style": "IPY_MODEL_7394d05200a2496d8fb36aa36bfe8dd2",
            "value": "Map: 100%"
          }
        },
        "272b73c322254f6bb480392a4edae775": {
          "model_module": "@jupyter-widgets/controls",
          "model_name": "FloatProgressModel",
          "model_module_version": "1.5.0",
          "state": {
            "_dom_classes": [],
            "_model_module": "@jupyter-widgets/controls",
            "_model_module_version": "1.5.0",
            "_model_name": "FloatProgressModel",
            "_view_count": null,
            "_view_module": "@jupyter-widgets/controls",
            "_view_module_version": "1.5.0",
            "_view_name": "ProgressView",
            "bar_style": "success",
            "description": "",
            "description_tooltip": null,
            "layout": "IPY_MODEL_016255e2ebb442059c11a7ca6ec171b2",
            "max": 1507,
            "min": 0,
            "orientation": "horizontal",
            "style": "IPY_MODEL_7340af792cb0456c9d29cc6bccf27a47",
            "value": 1507
          }
        },
        "9143e3147b6b41c6ba7c6f5b53c88200": {
          "model_module": "@jupyter-widgets/controls",
          "model_name": "HTMLModel",
          "model_module_version": "1.5.0",
          "state": {
            "_dom_classes": [],
            "_model_module": "@jupyter-widgets/controls",
            "_model_module_version": "1.5.0",
            "_model_name": "HTMLModel",
            "_view_count": null,
            "_view_module": "@jupyter-widgets/controls",
            "_view_module_version": "1.5.0",
            "_view_name": "HTMLView",
            "description": "",
            "description_tooltip": null,
            "layout": "IPY_MODEL_b3b7f32006484835a092f74c25e4cf45",
            "placeholder": "​",
            "style": "IPY_MODEL_80dfe3b903ef47559893668729ec2281",
            "value": " 1507/1507 [00:00&lt;00:00, 1582.17 examples/s]"
          }
        },
        "fcd5f95aa63441798169146e5fdeaf21": {
          "model_module": "@jupyter-widgets/base",
          "model_name": "LayoutModel",
          "model_module_version": "1.2.0",
          "state": {
            "_model_module": "@jupyter-widgets/base",
            "_model_module_version": "1.2.0",
            "_model_name": "LayoutModel",
            "_view_count": null,
            "_view_module": "@jupyter-widgets/base",
            "_view_module_version": "1.2.0",
            "_view_name": "LayoutView",
            "align_content": null,
            "align_items": null,
            "align_self": null,
            "border": null,
            "bottom": null,
            "display": null,
            "flex": null,
            "flex_flow": null,
            "grid_area": null,
            "grid_auto_columns": null,
            "grid_auto_flow": null,
            "grid_auto_rows": null,
            "grid_column": null,
            "grid_gap": null,
            "grid_row": null,
            "grid_template_areas": null,
            "grid_template_columns": null,
            "grid_template_rows": null,
            "height": null,
            "justify_content": null,
            "justify_items": null,
            "left": null,
            "margin": null,
            "max_height": null,
            "max_width": null,
            "min_height": null,
            "min_width": null,
            "object_fit": null,
            "object_position": null,
            "order": null,
            "overflow": null,
            "overflow_x": null,
            "overflow_y": null,
            "padding": null,
            "right": null,
            "top": null,
            "visibility": null,
            "width": null
          }
        },
        "342354b456794f668ee7abb0d0e227e6": {
          "model_module": "@jupyter-widgets/base",
          "model_name": "LayoutModel",
          "model_module_version": "1.2.0",
          "state": {
            "_model_module": "@jupyter-widgets/base",
            "_model_module_version": "1.2.0",
            "_model_name": "LayoutModel",
            "_view_count": null,
            "_view_module": "@jupyter-widgets/base",
            "_view_module_version": "1.2.0",
            "_view_name": "LayoutView",
            "align_content": null,
            "align_items": null,
            "align_self": null,
            "border": null,
            "bottom": null,
            "display": null,
            "flex": null,
            "flex_flow": null,
            "grid_area": null,
            "grid_auto_columns": null,
            "grid_auto_flow": null,
            "grid_auto_rows": null,
            "grid_column": null,
            "grid_gap": null,
            "grid_row": null,
            "grid_template_areas": null,
            "grid_template_columns": null,
            "grid_template_rows": null,
            "height": null,
            "justify_content": null,
            "justify_items": null,
            "left": null,
            "margin": null,
            "max_height": null,
            "max_width": null,
            "min_height": null,
            "min_width": null,
            "object_fit": null,
            "object_position": null,
            "order": null,
            "overflow": null,
            "overflow_x": null,
            "overflow_y": null,
            "padding": null,
            "right": null,
            "top": null,
            "visibility": null,
            "width": null
          }
        },
        "7394d05200a2496d8fb36aa36bfe8dd2": {
          "model_module": "@jupyter-widgets/controls",
          "model_name": "DescriptionStyleModel",
          "model_module_version": "1.5.0",
          "state": {
            "_model_module": "@jupyter-widgets/controls",
            "_model_module_version": "1.5.0",
            "_model_name": "DescriptionStyleModel",
            "_view_count": null,
            "_view_module": "@jupyter-widgets/base",
            "_view_module_version": "1.2.0",
            "_view_name": "StyleView",
            "description_width": ""
          }
        },
        "016255e2ebb442059c11a7ca6ec171b2": {
          "model_module": "@jupyter-widgets/base",
          "model_name": "LayoutModel",
          "model_module_version": "1.2.0",
          "state": {
            "_model_module": "@jupyter-widgets/base",
            "_model_module_version": "1.2.0",
            "_model_name": "LayoutModel",
            "_view_count": null,
            "_view_module": "@jupyter-widgets/base",
            "_view_module_version": "1.2.0",
            "_view_name": "LayoutView",
            "align_content": null,
            "align_items": null,
            "align_self": null,
            "border": null,
            "bottom": null,
            "display": null,
            "flex": null,
            "flex_flow": null,
            "grid_area": null,
            "grid_auto_columns": null,
            "grid_auto_flow": null,
            "grid_auto_rows": null,
            "grid_column": null,
            "grid_gap": null,
            "grid_row": null,
            "grid_template_areas": null,
            "grid_template_columns": null,
            "grid_template_rows": null,
            "height": null,
            "justify_content": null,
            "justify_items": null,
            "left": null,
            "margin": null,
            "max_height": null,
            "max_width": null,
            "min_height": null,
            "min_width": null,
            "object_fit": null,
            "object_position": null,
            "order": null,
            "overflow": null,
            "overflow_x": null,
            "overflow_y": null,
            "padding": null,
            "right": null,
            "top": null,
            "visibility": null,
            "width": null
          }
        },
        "7340af792cb0456c9d29cc6bccf27a47": {
          "model_module": "@jupyter-widgets/controls",
          "model_name": "ProgressStyleModel",
          "model_module_version": "1.5.0",
          "state": {
            "_model_module": "@jupyter-widgets/controls",
            "_model_module_version": "1.5.0",
            "_model_name": "ProgressStyleModel",
            "_view_count": null,
            "_view_module": "@jupyter-widgets/base",
            "_view_module_version": "1.2.0",
            "_view_name": "StyleView",
            "bar_color": null,
            "description_width": ""
          }
        },
        "b3b7f32006484835a092f74c25e4cf45": {
          "model_module": "@jupyter-widgets/base",
          "model_name": "LayoutModel",
          "model_module_version": "1.2.0",
          "state": {
            "_model_module": "@jupyter-widgets/base",
            "_model_module_version": "1.2.0",
            "_model_name": "LayoutModel",
            "_view_count": null,
            "_view_module": "@jupyter-widgets/base",
            "_view_module_version": "1.2.0",
            "_view_name": "LayoutView",
            "align_content": null,
            "align_items": null,
            "align_self": null,
            "border": null,
            "bottom": null,
            "display": null,
            "flex": null,
            "flex_flow": null,
            "grid_area": null,
            "grid_auto_columns": null,
            "grid_auto_flow": null,
            "grid_auto_rows": null,
            "grid_column": null,
            "grid_gap": null,
            "grid_row": null,
            "grid_template_areas": null,
            "grid_template_columns": null,
            "grid_template_rows": null,
            "height": null,
            "justify_content": null,
            "justify_items": null,
            "left": null,
            "margin": null,
            "max_height": null,
            "max_width": null,
            "min_height": null,
            "min_width": null,
            "object_fit": null,
            "object_position": null,
            "order": null,
            "overflow": null,
            "overflow_x": null,
            "overflow_y": null,
            "padding": null,
            "right": null,
            "top": null,
            "visibility": null,
            "width": null
          }
        },
        "80dfe3b903ef47559893668729ec2281": {
          "model_module": "@jupyter-widgets/controls",
          "model_name": "DescriptionStyleModel",
          "model_module_version": "1.5.0",
          "state": {
            "_model_module": "@jupyter-widgets/controls",
            "_model_module_version": "1.5.0",
            "_model_name": "DescriptionStyleModel",
            "_view_count": null,
            "_view_module": "@jupyter-widgets/base",
            "_view_module_version": "1.2.0",
            "_view_name": "StyleView",
            "description_width": ""
          }
        }
      }
    }
  },
  "cells": [
    {
      "cell_type": "markdown",
      "metadata": {
        "id": "view-in-github",
        "colab_type": "text"
      },
      "source": [
        "<a href=\"https://colab.research.google.com/github/dyfzl/AI-JBNU/blob/main/%EC%9E%91%EA%B0%80%EC%9D%98_%EB%AC%B8%EC%B2%B4%EB%A5%BC_%ED%95%99%EC%8A%B5%ED%95%9C_%ED%85%8D%EC%8A%A4%ED%8A%B8_%EC%83%9D%EC%84%B1_%EB%AA%A8%EB%8D%B8.ipynb\" target=\"_parent\"><img src=\"https://colab.research.google.com/assets/colab-badge.svg\" alt=\"Open In Colab\"/></a>"
      ]
    },
    {
      "cell_type": "code",
      "execution_count": null,
      "metadata": {
        "id": "ylFRuVtUx9lO"
      },
      "outputs": [],
      "source": [
        "#!pip install datasets"
      ]
    },
    {
      "cell_type": "code",
      "source": [
        "import os\n",
        "\n",
        "# WandB 비활성화\n",
        "os.environ[\"WANDB_DISABLED\"] = \"true\"\n"
      ],
      "metadata": {
        "id": "BXfpm7xhGTWC"
      },
      "execution_count": null,
      "outputs": []
    },
    {
      "cell_type": "code",
      "source": [
        "import pandas as pd\n",
        "import os\n",
        "from google.colab import drive\n",
        "drive.mount('/content/drive/')\n",
        "\n",
        "# 데이터 로드\n",
        "train = pd.read_csv('/content/drive/MyDrive/소설작가분류/train.csv')\n",
        "test = pd.read_csv('/content/drive/MyDrive/소설작가분류/test_x.csv')\n"
      ],
      "metadata": {
        "colab": {
          "base_uri": "https://localhost:8080/"
        },
        "id": "daij-jWNyEL7",
        "outputId": "0f721109-1d15-42d9-ef85-6cbe88683761"
      },
      "execution_count": null,
      "outputs": [
        {
          "output_type": "stream",
          "name": "stdout",
          "text": [
            "Drive already mounted at /content/drive/; to attempt to forcibly remount, call drive.mount(\"/content/drive/\", force_remount=True).\n"
          ]
        }
      ]
    },
    {
      "cell_type": "code",
      "source": [
        "# 데이터 확인\n",
        "df = train\n",
        "author_counts = df['author'].value_counts()\n",
        "print(author_counts)\n",
        "\n",
        "# 특정 작가(author=3)의 데이터 필터링 및 전처리\n",
        "import re\n",
        "def clean_text_preserve_style(text):\n",
        "    text = re.sub(r\"[^\\w\\s.,!?']\", \"\", text)  # 특수문자 중 쉼표, 마침표 등 유지\n",
        "    text = re.sub(r\"\\s+\", \" \", text).strip()  # 불필요한 공백 제거\n",
        "    return text\n",
        "\n",
        "author_data = df[df['author'] == 3]\n",
        "author_data[\"text\"] = author_data[\"text\"].apply(clean_text_preserve_style)\n"
      ],
      "metadata": {
        "colab": {
          "base_uri": "https://localhost:8080/"
        },
        "id": "WLLNOgbkyEJe",
        "outputId": "ebc905c4-2f7d-477c-b986-86c81b126e3e"
      },
      "execution_count": null,
      "outputs": [
        {
          "output_type": "stream",
          "name": "stdout",
          "text": [
            "author\n",
            "3    15063\n",
            "0    13235\n",
            "2    11554\n",
            "4     7805\n",
            "1     7222\n",
            "Name: count, dtype: int64\n"
          ]
        },
        {
          "output_type": "stream",
          "name": "stderr",
          "text": [
            "<ipython-input-40-6f4169ac472e>:14: SettingWithCopyWarning: \n",
            "A value is trying to be set on a copy of a slice from a DataFrame.\n",
            "Try using .loc[row_indexer,col_indexer] = value instead\n",
            "\n",
            "See the caveats in the documentation: https://pandas.pydata.org/pandas-docs/stable/user_guide/indexing.html#returning-a-view-versus-a-copy\n",
            "  author_data[\"text\"] = author_data[\"text\"].apply(clean_text_preserve_style)\n"
          ]
        }
      ]
    },
    {
      "cell_type": "code",
      "source": [
        "\n",
        "# Hugging Face 모델 준비 (GPT-2)\n",
        "from transformers import GPT2Tokenizer, GPT2LMHeadModel\n",
        "model_name = \"gpt2\"\n",
        "tokenizer = GPT2Tokenizer.from_pretrained(model_name)\n",
        "model = GPT2LMHeadModel.from_pretrained(model_name)\n",
        "\n",
        "# Padding token 추가\n",
        "tokenizer.pad_token = tokenizer.eos_token\n",
        "model.resize_token_embeddings(len(tokenizer))\n"
      ],
      "metadata": {
        "colab": {
          "base_uri": "https://localhost:8080/"
        },
        "id": "vbVoedNQyEGJ",
        "outputId": "ea95aa0f-bc08-402e-ade0-0999b7ac3805"
      },
      "execution_count": null,
      "outputs": [
        {
          "output_type": "execute_result",
          "data": {
            "text/plain": [
              "Embedding(50257, 768)"
            ]
          },
          "metadata": {},
          "execution_count": 41
        }
      ]
    },
    {
      "cell_type": "code",
      "source": [
        "\n",
        "# 데이터셋 준비 및 전처리\n",
        "from sklearn.model_selection import train_test_split\n",
        "from datasets import Dataset\n",
        "\n",
        "train_data, eval_data = train_test_split(author_data, test_size=0.1, random_state=42)\n",
        "train_dataset = Dataset.from_pandas(train_data[[\"text\"]])\n",
        "eval_dataset = Dataset.from_pandas(eval_data[[\"text\"]])\n",
        "\n",
        "def preprocess_data_with_labels(examples):\n",
        "    inputs = tokenizer(\n",
        "        examples[\"text\"], max_length=512, truncation=True, padding=\"max_length\"\n",
        "    )\n",
        "    inputs[\"labels\"] = inputs[\"input_ids\"]\n",
        "    return inputs\n",
        "\n",
        "train_dataset = train_dataset.map(preprocess_data_with_labels, batched=True)\n",
        "eval_dataset = eval_dataset.map(preprocess_data_with_labels, batched=True)\n",
        "\n",
        "train_dataset.set_format(type=\"torch\", columns=[\"input_ids\", \"attention_mask\", \"labels\"])\n",
        "eval_dataset.set_format(type=\"torch\", columns=[\"input_ids\", \"attention_mask\", \"labels\"])\n"
      ],
      "metadata": {
        "colab": {
          "base_uri": "https://localhost:8080/",
          "height": 81,
          "referenced_widgets": [
            "6dec1f540aff4b19807c70749053e793",
            "f547aa49f15e4bcca0257b0dae77666c",
            "4e1548f6c45848ea9b8ccdc0ac979a1c",
            "2ec40367cf104f488eca81cd7a434977",
            "00101afe6af841c29901fcdffb9f51b5",
            "41a7a455c92749888a585777c1459c07",
            "98b551f0818b418e83b0e6d30b23ba68",
            "1748778df95e43438010429118168d67",
            "4d15636e4c8a461b8962ef29285022bd",
            "220601e5bb3f4fb9bd6ad88e5945c2a9",
            "707c81659f9d4998ad1c12a99a71a770",
            "776856122bcf45f5b91db6c0ba3f188d",
            "8e240d4a789a47428398f46492f36087",
            "272b73c322254f6bb480392a4edae775",
            "9143e3147b6b41c6ba7c6f5b53c88200",
            "fcd5f95aa63441798169146e5fdeaf21",
            "342354b456794f668ee7abb0d0e227e6",
            "7394d05200a2496d8fb36aa36bfe8dd2",
            "016255e2ebb442059c11a7ca6ec171b2",
            "7340af792cb0456c9d29cc6bccf27a47",
            "b3b7f32006484835a092f74c25e4cf45",
            "80dfe3b903ef47559893668729ec2281"
          ]
        },
        "id": "1lNTAdxcyED3",
        "outputId": "2ee699ab-7885-492b-b67c-4b6af6bb03ba"
      },
      "execution_count": null,
      "outputs": [
        {
          "output_type": "display_data",
          "data": {
            "text/plain": [
              "Map:   0%|          | 0/13556 [00:00<?, ? examples/s]"
            ],
            "application/vnd.jupyter.widget-view+json": {
              "version_major": 2,
              "version_minor": 0,
              "model_id": "6dec1f540aff4b19807c70749053e793"
            }
          },
          "metadata": {}
        },
        {
          "output_type": "display_data",
          "data": {
            "text/plain": [
              "Map:   0%|          | 0/1507 [00:00<?, ? examples/s]"
            ],
            "application/vnd.jupyter.widget-view+json": {
              "version_major": 2,
              "version_minor": 0,
              "model_id": "776856122bcf45f5b91db6c0ba3f188d"
            }
          },
          "metadata": {}
        }
      ]
    },
    {
      "cell_type": "code",
      "source": [
        "from transformers import Trainer, TrainingArguments, GPT2Tokenizer, GPT2LMHeadModel\n",
        "\n",
        "# Trainer 설정 및 학습\n",
        "training_args = TrainingArguments(\n",
        "    output_dir=\"./results\",\n",
        "    num_train_epochs=3,\n",
        "    per_device_train_batch_size=8,\n",
        "    save_steps=1000,\n",
        "    evaluation_strategy=\"steps\",\n",
        "    eval_steps=1000,\n",
        "    logging_dir=\"./logs\",\n",
        "    logging_steps=500,\n",
        "    learning_rate=3e-5,\n",
        "    warmup_steps=100,\n",
        "    weight_decay=0.01,\n",
        "    fp16=True,\n",
        "    report_to=\"none\",\n",
        "    load_best_model_at_end=True,\n",
        ")\n",
        "\n",
        "trainer = Trainer(\n",
        "    model=model,\n",
        "    args=training_args,\n",
        "    train_dataset=train_dataset,\n",
        "    eval_dataset=eval_dataset,\n",
        "    tokenizer=tokenizer,\n",
        ")\n",
        "\n",
        "# 모델 학습\n",
        "trainer.train()\n",
        "\n",
        "# 모델과 토크나이저 저장\n",
        "save_directory = \"/content/fine_tuned_model\"\n",
        "trainer.save_model(save_directory)  # 학습된 모델 저장\n",
        "tokenizer.save_pretrained(save_directory)  # 토크나이저 저장\n",
        "\n",
        "print(f\"Model and tokenizer saved to {save_directory}\")\n",
        "\n",
        "# 모델과 토크나이저 다시 불러오기\n",
        "tokenizer = GPT2Tokenizer.from_pretrained(save_directory)\n",
        "model = GPT2LMHeadModel.from_pretrained(save_directory)\n",
        "\n",
        "print(\"Model and tokenizer loaded successfully!\")\n"
      ],
      "metadata": {
        "colab": {
          "base_uri": "https://localhost:8080/",
          "height": 360
        },
        "id": "QjAOb8eJyEB6",
        "outputId": "6bd3f001-f124-434d-ef27-921de73db05e"
      },
      "execution_count": null,
      "outputs": [
        {
          "output_type": "stream",
          "name": "stderr",
          "text": [
            "/usr/local/lib/python3.10/dist-packages/transformers/training_args.py:1568: FutureWarning: `evaluation_strategy` is deprecated and will be removed in version 4.46 of 🤗 Transformers. Use `eval_strategy` instead\n",
            "  warnings.warn(\n",
            "<ipython-input-45-4cdb61ba03b6>:21: FutureWarning: `tokenizer` is deprecated and will be removed in version 5.0.0 for `Trainer.__init__`. Use `processing_class` instead.\n",
            "  trainer = Trainer(\n"
          ]
        },
        {
          "output_type": "display_data",
          "data": {
            "text/plain": [
              "<IPython.core.display.HTML object>"
            ],
            "text/html": [
              "\n",
              "    <div>\n",
              "      \n",
              "      <progress value='5085' max='5085' style='width:300px; height:20px; vertical-align: middle;'></progress>\n",
              "      [5085/5085 08:42, Epoch 3/3]\n",
              "    </div>\n",
              "    <table border=\"1\" class=\"dataframe\">\n",
              "  <thead>\n",
              " <tr style=\"text-align: left;\">\n",
              "      <th>Step</th>\n",
              "      <th>Training Loss</th>\n",
              "      <th>Validation Loss</th>\n",
              "    </tr>\n",
              "  </thead>\n",
              "  <tbody>\n",
              "    <tr>\n",
              "      <td>1000</td>\n",
              "      <td>0.360800</td>\n",
              "      <td>0.340833</td>\n",
              "    </tr>\n",
              "    <tr>\n",
              "      <td>2000</td>\n",
              "      <td>0.340100</td>\n",
              "      <td>0.335066</td>\n",
              "    </tr>\n",
              "    <tr>\n",
              "      <td>3000</td>\n",
              "      <td>0.340100</td>\n",
              "      <td>0.332032</td>\n",
              "    </tr>\n",
              "    <tr>\n",
              "      <td>4000</td>\n",
              "      <td>0.327900</td>\n",
              "      <td>0.330992</td>\n",
              "    </tr>\n",
              "    <tr>\n",
              "      <td>5000</td>\n",
              "      <td>0.335200</td>\n",
              "      <td>0.330349</td>\n",
              "    </tr>\n",
              "  </tbody>\n",
              "</table><p>"
            ]
          },
          "metadata": {}
        },
        {
          "output_type": "stream",
          "name": "stderr",
          "text": [
            "There were missing keys in the checkpoint model loaded: ['lm_head.weight'].\n"
          ]
        },
        {
          "output_type": "stream",
          "name": "stdout",
          "text": [
            "Model and tokenizer saved to /content/fine_tuned_model\n",
            "Model and tokenizer loaded successfully!\n"
          ]
        }
      ]
    },
    {
      "cell_type": "code",
      "source": [
        "from transformers import GPT2Tokenizer, GPT2LMHeadModel\n",
        "\n",
        "# 저장된 경로 지정\n",
        "save_directory = \"./fine_tuned_model\"\n",
        "\n",
        "# 모델과 토크나이저 불러오기\n",
        "tokenizer = GPT2Tokenizer.from_pretrained(save_directory)\n",
        "model = GPT2LMHeadModel.from_pretrained(save_directory)\n",
        "\n",
        "print(\"Model and tokenizer loaded successfully!\")\n"
      ],
      "metadata": {
        "colab": {
          "base_uri": "https://localhost:8080/"
        },
        "id": "5tzJOu1SGw5Y",
        "outputId": "d738b50c-edc6-41df-ccf9-2a1b9dedde05"
      },
      "execution_count": null,
      "outputs": [
        {
          "output_type": "stream",
          "name": "stdout",
          "text": [
            "Model and tokenizer loaded successfully!\n"
          ]
        }
      ]
    },
    {
      "cell_type": "code",
      "source": [
        "# 텍스트 생성\n",
        "from transformers import pipeline\n",
        "\n",
        "# 텍스트 생성 파이프라인 설정\n",
        "text_generator = pipeline(\"text-generation\", model=model, tokenizer=tokenizer)\n",
        "\n",
        "# 테스트 프롬프트 정의\n",
        "test_prompts = [\"We\", \"The day was bright\", \"she\"]\n",
        "\n",
        "# 텍스트 생성 및 저장\n",
        "generated_texts = [\n",
        "    text_generator(prompt, max_length=100, num_return_sequences=1)[0][\"generated_text\"]\n",
        "    for prompt in test_prompts\n",
        "]\n",
        "\n",
        "# 생성된 텍스트 출력\n",
        "print(\"Generated Texts:\")\n",
        "for i, (prompt, generated) in enumerate(zip(test_prompts, generated_texts)):\n",
        "    print(f\"\\nPrompt {i + 1}: {prompt}\")\n",
        "    print(f\"Generated Text {i + 1}: {generated}\")\n"
      ],
      "metadata": {
        "colab": {
          "base_uri": "https://localhost:8080/"
        },
        "id": "C2730wEFyD97",
        "outputId": "b9c0aa5c-c5f2-470c-f32c-3d7f1afbd518"
      },
      "execution_count": null,
      "outputs": [
        {
          "output_type": "stream",
          "name": "stderr",
          "text": [
            "Hardware accelerator e.g. GPU is available in the environment, but no `device` argument is passed to the `Pipeline` object. Model will be on CPU.\n",
            "Truncation was not explicitly activated but `max_length` is provided a specific value, please use `truncation=True` to explicitly truncate examples to max length. Defaulting to 'longest_first' truncation strategy. If you encode pairs of sequences (GLUE-style) with the tokenizer you can select this strategy more precisely by providing a specific strategy to `truncation`.\n"
          ]
        },
        {
          "output_type": "stream",
          "name": "stdout",
          "text": [
            "Generated Texts:\n",
            "\n",
            "Prompt 1: We\n",
            "Generated Text 1: We took him, and there, there, and then, but I was here yesterday only to meet you again, not to let your heart be taken in. odin looked with horror and dread over his brother.\n",
            "\n",
            "Prompt 2: The day was bright\n",
            "Generated Text 2: The day was bright. The fire was burning bright. Darya odin, Darya odin, Darya odin went to bed at eight oclock. It began raining, and the heat and wind was unbearable. Her clothes were cold but she had to cover up the wetness by covering up her wet foot with a hot towel, covering with black linen, her hat, her gloves. They soaked quickly, and odin tried not to wet her feet. Her odin looked at her\n",
            "\n",
            "Prompt 3: she\n",
            "Generated Text 3: she thought of getting more and more agitated. His face looked pale and expression was rather grim, but when, at twentyfive the prince sat beside her, she could make out the words\n"
          ]
        }
      ]
    },
    {
      "cell_type": "code",
      "source": [
        "from transformers import pipeline\n",
        "from sklearn.feature_extraction.text import TfidfVectorizer\n",
        "from sklearn.metrics.pairwise import cosine_similarity\n",
        "from nltk.translate.bleu_score import sentence_bleu, SmoothingFunction\n",
        "import pandas as pd\n",
        "\n",
        "# 감정 분석 모델 설정\n",
        "sentiment_analyzer = pipeline(\"sentiment-analysis\", model=\"distilbert-base-uncased-finetuned-sst-2-english\")\n",
        "\n",
        "# 유사 문장 찾기: 상위 8000개의 참조 문장을 비교\n",
        "def find_related_sentences(prompts, data, top_n=8000):\n",
        "    all_sentences = data['text'].tolist()\n",
        "    vectorizer = TfidfVectorizer()\n",
        "    sentence_vectors = vectorizer.fit_transform(all_sentences)\n",
        "\n",
        "    related_sentences = []\n",
        "    for prompt in prompts:\n",
        "        prompt_vector = vectorizer.transform([prompt])\n",
        "        similarities = cosine_similarity(prompt_vector, sentence_vectors).flatten()\n",
        "        top_indices = similarities.argsort()[-top_n:][::-1]\n",
        "        top_related = [all_sentences[i] for i in top_indices]\n",
        "        related_sentences.append(top_related)\n",
        "    return related_sentences\n",
        "\n",
        "# BLEU 점수 계산 함수\n",
        "def calculate_bleu_with_multiple_references(generated, references):\n",
        "    bleu_scores = []\n",
        "    smoothing = SmoothingFunction().method1\n",
        "    for gen_text, ref_texts in zip(generated, references):\n",
        "        ref_tokens = [ref.split() for ref in ref_texts]  # 참조 문장 토큰화\n",
        "        gen_tokens = gen_text.split()  # 생성된 텍스트 토큰화\n",
        "        bleu_score = sentence_bleu(ref_tokens, gen_tokens, weights=(0.25, 0.25, 0.25, 0.25), smoothing_function=smoothing)\n",
        "        bleu_scores.append(bleu_score)\n",
        "    return bleu_scores\n",
        "\n",
        "# 감정 분석 함수\n",
        "def analyze_sentiments(texts):\n",
        "    sentiment_mapping = {\n",
        "        \"POSITIVE\": \"Positive\",\n",
        "        \"NEGATIVE\": \"Negative\",\n",
        "        \"NEUTRAL\": \"Neutral\"\n",
        "    }\n",
        "    sentiments = []\n",
        "    for text in texts:\n",
        "        sentiment = sentiment_analyzer(text)\n",
        "        label = sentiment[0]['label']\n",
        "        sentiments.append(sentiment_mapping.get(label, \"Unknown\"))\n",
        "    return sentiments\n",
        "\n",
        "# 테스트 프롬프트\n",
        "test_prompts = [\"We\", \"The day was bright\", \"she\"]\n",
        "\n",
        "# 텍스트 생성\n",
        "generated_texts = [\n",
        "    text_generator(prompt, max_length=100, num_return_sequences=1)[0][\"generated_text\"]\n",
        "    for prompt in test_prompts\n",
        "]\n",
        "\n",
        "# 참조 문장 선택 (상위 8000개)\n",
        "top_n = 8000\n",
        "similar_sentences = find_related_sentences(test_prompts, eval_data, top_n)\n",
        "\n",
        "# BLEU 점수 계산\n",
        "bleu_scores = calculate_bleu_with_multiple_references(generated_texts, similar_sentences)\n",
        "\n",
        "# 감정 분석 수행\n",
        "generated_sentiments = analyze_sentiments(generated_texts)\n",
        "\n",
        "# 상위 5개 참조 문장만 출력하도록 설정\n",
        "top_5_sentences = [[\"\\n\".join(sentences[:5])] for sentences in similar_sentences]\n",
        "\n",
        "# 결과 데이터프레임 생성\n",
        "results_df = pd.DataFrame({\n",
        "    \"Prompt\": test_prompts,\n",
        "    \"Generated Text\": generated_texts,\n",
        "    \"Sentiment\": generated_sentiments,\n",
        "    \"BLEU Score\": bleu_scores,\n",
        "    \"Top Similar Sentences (Top 5)\": [sentences[0] for sentences in top_5_sentences]\n",
        "})\n",
        "\n",
        "# 결과 출력\n",
        "def display_results_with_sentiments(df):\n",
        "    for index, row in df.iterrows():\n",
        "        print(f\"\\n--- Prompt {index + 1} ---\")\n",
        "        print(f\"Prompt: {row['Prompt']}\")\n",
        "        print(f\"Generated Text: {row['Generated Text']}\")\n",
        "        print(f\"Sentiment: {row['Sentiment']}\")\n",
        "        print(f\"BLEU Score: {row['BLEU Score']:.4f}\")\n",
        "        print(\"Top 5 Similar Sentences:\")\n",
        "        print(row[\"Top Similar Sentences (Top 5)\"])\n",
        "        print(\"-\" * 50)\n",
        "\n",
        "# BLEU 점수와 감정 분석 결과 출력\n",
        "display_results_with_sentiments(results_df)\n"
      ],
      "metadata": {
        "colab": {
          "base_uri": "https://localhost:8080/"
        },
        "id": "IrEs_sq-MMvS",
        "outputId": "b01ff9fe-60cc-43eb-eb8c-70c5f1ac8ecf"
      },
      "execution_count": null,
      "outputs": [
        {
          "output_type": "stream",
          "name": "stderr",
          "text": [
            "Hardware accelerator e.g. GPU is available in the environment, but no `device` argument is passed to the `Pipeline` object. Model will be on CPU.\n"
          ]
        },
        {
          "output_type": "stream",
          "name": "stdout",
          "text": [
            "\n",
            "--- Prompt 1 ---\n",
            "Prompt: We\n",
            "Generated Text: We have heard all the confessions and the confessions of women already in the house. odin made no such statement again.\n",
            "Sentiment: Negative\n",
            "BLEU Score: 0.2445\n",
            "Top 5 Similar Sentences:\n",
            "No, no we all want it.\n",
            "I was standing at the gate with them... dont you remember? We have carried on our trade in that house for years past. We cure and prepare hides, we take work home... most of all I was vexed....\n",
            "You think we may become friends?\n",
            "I believe we can say _goodbye_!\n",
            "You shall have some, too, when we get home.\n",
            "--------------------------------------------------\n",
            "\n",
            "--- Prompt 2 ---\n",
            "Prompt: The day was bright\n",
            "Generated Text: The day was bright and warm. The sun was shining brightly.\n",
            "Sentiment: Positive\n",
            "BLEU Score: 0.0564\n",
            "Top 5 Similar Sentences:\n",
            "But the prince only looked at the bright side he did not turn the coat and see the shabby lining.\n",
            "The letter of the day before\n",
            "Every day, every day! said the captain quickly, seeming cheered at the thought.\n",
            "The prince went out deep in thought, and walked up and down the pavement for some time. The windows of all the rooms occupied by odin were closed, those of his mothers apartments were open. It was a hot, bright day. The prince crossed the road in order to have a good look at the windows again not only were odins closed, but the white blinds were all down as well.\n",
            "_You_ came to me last week, in the night, at two oclock, the day I was with you in the morning! Confess it was you!\n",
            "--------------------------------------------------\n",
            "\n",
            "--- Prompt 3 ---\n",
            "Prompt: she\n",
            "Generated Text: she, she must have her own daughter, she cried, and she is dying of a fever, but all the mothers she knows do not care for one another, neither in the houses of her two daughters. He did not speak to me. I thought he must be busy, and did not send me his message, though I was expecting him. But you said so much afterwards, that I could not be certain whether he heard or not. I did not know him at the time when he had\n",
            "Sentiment: Negative\n",
            "BLEU Score: 0.2283\n",
            "Top 5 Similar Sentences:\n",
            "Oh, how different she was then! he would sometimes say to me about odin. How different she was in the old days when we used to talk together.... Do you know that she could talk in those days! Can you believe that she had ideas in those days, original ideas! Now, everything has changed! She says all that's only oldfashioned twaddle. She despises the past.... Now she's like some shopman or cashier, she has grown hardhearted, and she's always cross....\n",
            "Yes, she is. For she is credulous and goodhearted, and she believes everything from the goodness of her heart and... and... and she is like that... yes... You must excuse her, said odin, and again she got up to go.\n",
            "She was again asked to whom she was referring.\n",
            "She had almost reached the door when she turned round again.\n",
            "Yes, it is a fact, and this time, let me tell you, on the very eve of their marriage! It was a question of minutes when she slipped off to odin. She came to me directly she arrivedSave me, Lukian! find me some refuge, and say nothing to the prince! She is afraid of you, even more than she is of him, and in that she shows her wisdom! And odin slily put his finger to his brow as he said the last words.\n",
            "--------------------------------------------------\n"
          ]
        }
      ]
    },
    {
      "cell_type": "code",
      "source": [
        "# 결과 데이터프레임 생성\n",
        "results_df = pd.DataFrame({\n",
        "    \"Prompt\": test_prompts,\n",
        "    \"Generated Text\": generated_texts,\n",
        "    \"Reference Texts\": [\", \".join(reference_texts)] * len(test_prompts),\n",
        "    \"Sentiment\": generated_sentiments,\n",
        "    \"BLEU Score\": bleu_scores,\n",
        "})\n",
        "\n",
        "# 결과 출력\n",
        "print(\"Generated Text Analysis Results:\")\n",
        "print(results_df)\n",
        "\n",
        "# 분석 함수 정의\n",
        "def analyze_results(df):\n",
        "    for index, row in df.iterrows():\n",
        "        print(f\"\\n--- Analysis for Prompt {index + 1} ---\")\n",
        "        print(f\"Prompt: {row['Prompt']}\")\n",
        "        print(f\"Generated Text: {row['Generated Text']}\")\n",
        "        print(f\"Reference Texts: {row['Reference Texts'][:10]}...\")  # 참조 텍스트 일부만 출력\n",
        "        print(f\"Sentiment: {row['Sentiment']}\")\n",
        "        print(f\"BLEU Score: {row['BLEU Score']:.6f}\")\n",
        "\n",
        "        # BLEU 점수 평가\n",
        "        if row[\"BLEU Score\"] > 0.05:\n",
        "            print(\"Analysis: The generated text is fairly similar to the reference texts.\")\n",
        "        elif row[\"BLEU Score\"] > 0.02:\n",
        "            print(\"Analysis: The generated text has some similarity to the reference texts.\")\n",
        "        else:\n",
        "            print(\"Analysis: The generated text is quite different from the reference texts.\")\n",
        "\n",
        "        # 감정 분석 평가\n",
        "        if row[\"Sentiment\"] == \"Positive\":\n",
        "            print(\"Sentiment Analysis: The generated text conveys a positive sentiment.\")\n",
        "        elif row[\"Sentiment\"] == \"Negative\":\n",
        "            print(\"Sentiment Analysis: The generated text conveys a negative sentiment.\")\n",
        "        elif row[\"Sentiment\"] == \"Neutral\":\n",
        "            print(\"Sentiment Analysis: The generated text conveys a neutral sentiment.\")\n",
        "        else:\n",
        "            print(\"Sentiment Analysis: Unable to determine the sentiment.\")\n",
        "\n",
        "# 결과 분석 실행\n",
        "analyze_results(results_df)\n"
      ],
      "metadata": {
        "colab": {
          "base_uri": "https://localhost:8080/"
        },
        "id": "sFg1HheUyWHL",
        "outputId": "7d7b74da-9b01-4cf5-a0a6-e0d0d673e90b"
      },
      "execution_count": null,
      "outputs": [
        {
          "output_type": "stream",
          "name": "stdout",
          "text": [
            "Generated Text Analysis Results:\n",
            "               Prompt                                     Generated Text  \\\n",
            "0                  We  We have heard all the confessions and the conf...   \n",
            "1  The day was bright  The day was bright and warm. The sun was shini...   \n",
            "2                 she  she, she must have her own daughter, she cried...   \n",
            "\n",
            "                                     Reference Texts Sentiment  BLEU Score  \n",
            "0  He was in terrible haste, he snatched the keys...  Negative    0.244462  \n",
            "1  He was in terrible haste, he snatched the keys...  Positive    0.056376  \n",
            "2  He was in terrible haste, he snatched the keys...  Negative    0.228305  \n",
            "\n",
            "--- Analysis for Prompt 1 ---\n",
            "Prompt: We\n",
            "Generated Text: We have heard all the confessions and the confessions of women already in the house. odin made no such statement again.\n",
            "Reference Texts: He was in ...\n",
            "Sentiment: Negative\n",
            "BLEU Score: 0.244462\n",
            "Analysis: The generated text is fairly similar to the reference texts.\n",
            "Sentiment Analysis: The generated text conveys a negative sentiment.\n",
            "\n",
            "--- Analysis for Prompt 2 ---\n",
            "Prompt: The day was bright\n",
            "Generated Text: The day was bright and warm. The sun was shining brightly.\n",
            "Reference Texts: He was in ...\n",
            "Sentiment: Positive\n",
            "BLEU Score: 0.056376\n",
            "Analysis: The generated text is fairly similar to the reference texts.\n",
            "Sentiment Analysis: The generated text conveys a positive sentiment.\n",
            "\n",
            "--- Analysis for Prompt 3 ---\n",
            "Prompt: she\n",
            "Generated Text: she, she must have her own daughter, she cried, and she is dying of a fever, but all the mothers she knows do not care for one another, neither in the houses of her two daughters. He did not speak to me. I thought he must be busy, and did not send me his message, though I was expecting him. But you said so much afterwards, that I could not be certain whether he heard or not. I did not know him at the time when he had\n",
            "Reference Texts: He was in ...\n",
            "Sentiment: Negative\n",
            "BLEU Score: 0.228305\n",
            "Analysis: The generated text is fairly similar to the reference texts.\n",
            "Sentiment Analysis: The generated text conveys a negative sentiment.\n"
          ]
        }
      ]
    },
    {
      "cell_type": "code",
      "source": [],
      "metadata": {
        "id": "xFd8_a9Aq82U"
      },
      "execution_count": null,
      "outputs": []
    },
    {
      "cell_type": "code",
      "source": [
        "# 시각화 함수\n",
        "def visualize_results(df):\n",
        "    # BLEU 점수 시각화\n",
        "    plt.figure(figsize=(10, 5))\n",
        "    plt.bar(df[\"Prompt\"], df[\"BLEU Score\"], color=\"skyblue\")\n",
        "    plt.title(\"BLEU Scores for Prompts\", fontsize=16)\n",
        "    plt.xlabel(\"Prompts\", fontsize=12)\n",
        "    plt.ylabel(\"BLEU Score\", fontsize=12)\n",
        "    plt.show()\n",
        "\n",
        "    # 감정 분석 분포 시각화\n",
        "    sentiment_counts = df[\"Sentiment\"].value_counts()\n",
        "    plt.figure(figsize=(8, 5))\n",
        "    sentiment_counts.plot(kind=\"bar\", color=[\"blue\", \"orange\", \"green\"])\n",
        "    plt.title(\"Sentiment Distribution of Generated Texts\", fontsize=16)\n",
        "    plt.xlabel(\"Sentiment\", fontsize=12)\n",
        "    plt.ylabel(\"Count\", fontsize=12)\n",
        "    plt.show()\n",
        "\n",
        "# 참조 문장 선택 (상위 8000개)\n",
        "top_n = 8000\n",
        "similar_sentences = find_related_sentences(test_prompts, eval_data, top_n)\n",
        "\n",
        "# 상위 5개 참조 문장만 추출\n",
        "top_5_sentences = [\n",
        "    \"\\n\".join(sentences[:5])  # 상위 5개의 문장만 선택 후 줄바꿈으로 연결\n",
        "    for sentences in similar_sentences\n",
        "]\n",
        "\n",
        "# 결과 데이터프레임 생성\n",
        "results_df = pd.DataFrame({\n",
        "    \"Prompt\": test_prompts,\n",
        "    \"Generated Text\": generated_texts,\n",
        "    \"Sentiment\": generated_sentiments,\n",
        "    \"BLEU Score\": bleu_scores,\n",
        "    \"Top Similar Sentences (Top 5)\": top_5_sentences  # 상위 5개 참조 문장 추가\n",
        "})\n",
        "\n",
        "\n",
        "# BLEU 점수와 관련 문장 출력\n",
        "display_results_with_sentiments(results_df)\n",
        "\n",
        "# 시각화 출력\n",
        "visualize_results(results_df)"
      ],
      "metadata": {
        "colab": {
          "base_uri": "https://localhost:8080/",
          "height": 1000
        },
        "id": "nyQIg97TO4g-",
        "outputId": "c4a244af-7595-4abe-b39f-df52a04f394e"
      },
      "execution_count": null,
      "outputs": [
        {
          "output_type": "stream",
          "name": "stdout",
          "text": [
            "\n",
            "--- Prompt 1 ---\n",
            "Prompt: We\n",
            "Generated Text: We have heard all the confessions and the confessions of women already in the house. odin made no such statement again.\n",
            "Sentiment: Negative\n",
            "BLEU Score: 0.2445\n",
            "Top 5 Similar Sentences:\n",
            "No, no we all want it.\n",
            "I was standing at the gate with them... dont you remember? We have carried on our trade in that house for years past. We cure and prepare hides, we take work home... most of all I was vexed....\n",
            "You think we may become friends?\n",
            "I believe we can say _goodbye_!\n",
            "You shall have some, too, when we get home.\n",
            "--------------------------------------------------\n",
            "\n",
            "--- Prompt 2 ---\n",
            "Prompt: The day was bright\n",
            "Generated Text: The day was bright and warm. The sun was shining brightly.\n",
            "Sentiment: Positive\n",
            "BLEU Score: 0.0564\n",
            "Top 5 Similar Sentences:\n",
            "But the prince only looked at the bright side he did not turn the coat and see the shabby lining.\n",
            "The letter of the day before\n",
            "Every day, every day! said the captain quickly, seeming cheered at the thought.\n",
            "The prince went out deep in thought, and walked up and down the pavement for some time. The windows of all the rooms occupied by odin were closed, those of his mothers apartments were open. It was a hot, bright day. The prince crossed the road in order to have a good look at the windows again not only were odins closed, but the white blinds were all down as well.\n",
            "_You_ came to me last week, in the night, at two oclock, the day I was with you in the morning! Confess it was you!\n",
            "--------------------------------------------------\n",
            "\n",
            "--- Prompt 3 ---\n",
            "Prompt: she\n",
            "Generated Text: she, she must have her own daughter, she cried, and she is dying of a fever, but all the mothers she knows do not care for one another, neither in the houses of her two daughters. He did not speak to me. I thought he must be busy, and did not send me his message, though I was expecting him. But you said so much afterwards, that I could not be certain whether he heard or not. I did not know him at the time when he had\n",
            "Sentiment: Negative\n",
            "BLEU Score: 0.2283\n",
            "Top 5 Similar Sentences:\n",
            "Oh, how different she was then! he would sometimes say to me about odin. How different she was in the old days when we used to talk together.... Do you know that she could talk in those days! Can you believe that she had ideas in those days, original ideas! Now, everything has changed! She says all that's only oldfashioned twaddle. She despises the past.... Now she's like some shopman or cashier, she has grown hardhearted, and she's always cross....\n",
            "Yes, she is. For she is credulous and goodhearted, and she believes everything from the goodness of her heart and... and... and she is like that... yes... You must excuse her, said odin, and again she got up to go.\n",
            "She was again asked to whom she was referring.\n",
            "She had almost reached the door when she turned round again.\n",
            "Yes, it is a fact, and this time, let me tell you, on the very eve of their marriage! It was a question of minutes when she slipped off to odin. She came to me directly she arrivedSave me, Lukian! find me some refuge, and say nothing to the prince! She is afraid of you, even more than she is of him, and in that she shows her wisdom! And odin slily put his finger to his brow as he said the last words.\n",
            "--------------------------------------------------\n"
          ]
        },
        {
          "output_type": "display_data",
          "data": {
            "text/plain": [
              "<Figure size 1000x500 with 1 Axes>"
            ],
            "image/png": "[encoded data removed]"
          },
          "metadata": {}
        },
        {
          "output_type": "display_data",
          "data": {
            "text/plain": [
              "<Figure size 800x500 with 1 Axes>"
            ],
            "image/png": "[encoded data removed]"
          },
          "metadata": {}
        }
      ]
    },
    {
      "cell_type": "code",
      "source": [
        "# 문체 학습시키지 않은 기본 GPT-2 모델 불러오기\n",
        "untrained_model = GPT2LMHeadModel.from_pretrained(\"gpt2\")\n",
        "untrained_tokenizer = GPT2Tokenizer.from_pretrained(\"gpt2\")\n",
        "untrained_tokenizer.pad_token = untrained_tokenizer.eos_token\n",
        "untrained_model.resize_token_embeddings(len(untrained_tokenizer))\n",
        "\n",
        "# 텍스트 생성 파이프라인 설정 (기본 모델)\n",
        "untrained_text_generator = pipeline(\"text-generation\", model=untrained_model, tokenizer=untrained_tokenizer)\n",
        "\n",
        "# 테스트 프롬프트에 대해 텍스트 생성 (기본 모델)\n",
        "untrained_generated_texts = [\n",
        "    untrained_text_generator(prompt, max_length=100, num_return_sequences=1)[0][\"generated_text\"]\n",
        "    for prompt in test_prompts\n",
        "]\n",
        "\n",
        "# BLEU 점수 계산 (기본 모델)\n",
        "untrained_bleu_scores = calculate_bleu_with_multiple_references(untrained_generated_texts, similar_sentences)\n",
        "\n",
        "# 감정 분석 수행 (기본 모델)\n",
        "untrained_generated_sentiments = analyze_sentiments(untrained_generated_texts)\n",
        "\n",
        "# 결과 데이터프레임 생성 (기본 모델)\n",
        "untrained_results_df = pd.DataFrame({\n",
        "    \"Prompt\": test_prompts,\n",
        "    \"Generated Text\": untrained_generated_texts,\n",
        "    \"Sentiment\": untrained_generated_sentiments,\n",
        "    \"BLEU Score\": untrained_bleu_scores,\n",
        "})\n",
        "\n",
        "# 학습된 모델과 비교 데이터프레임 통합\n",
        "comparison_df = pd.DataFrame({\n",
        "    \"Prompt\": test_prompts,\n",
        "    \"Trained Generated Text\": generated_texts,\n",
        "    \"Trained Sentiment\": generated_sentiments,\n",
        "    \"Trained BLEU Score\": bleu_scores,\n",
        "    \"Untrained Generated Text\": untrained_generated_texts,\n",
        "    \"Untrained Sentiment\": untrained_generated_sentiments,\n",
        "    \"Untrained BLEU Score\": untrained_bleu_scores,\n",
        "})\n",
        "\n",
        "# 학습된 모델과 학습되지 않은 모델 비교 출력\n",
        "def compare_models(df):\n",
        "    for index, row in df.iterrows():\n",
        "        print(f\"\\n--- Comparison for Prompt {index + 1} ---\")\n",
        "        print(f\"Prompt: {row['Prompt']}\")\n",
        "\n",
        "        print(\"\\nTrained Model:\")\n",
        "        print(f\"Generated Text: {row['Trained Generated Text']}\")\n",
        "        print(f\"Sentiment: {row['Trained Sentiment']}\")\n",
        "        print(f\"BLEU Score: {row['Trained BLEU Score']:.4f}\")\n",
        "\n",
        "        print(\"\\nUntrained Model:\")\n",
        "        print(f\"Generated Text: {row['Untrained Generated Text']}\")\n",
        "        print(f\"Sentiment: {row['Untrained Sentiment']}\")\n",
        "        print(f\"BLEU Score: {row['Untrained BLEU Score']:.4f}\")\n",
        "        print(\"-\" * 50)\n",
        "\n",
        "# 비교 결과 출력\n",
        "compare_models(comparison_df)\n",
        "\n",
        "# 시각화를 통해 비교\n",
        "def visualize_comparison(df):\n",
        "    # BLEU 점수 비교\n",
        "    plt.figure(figsize=(10, 5))\n",
        "    x = range(len(df[\"Prompt\"]))\n",
        "    plt.bar(x, df[\"Trained BLEU Score\"], width=0.4, label=\"Trained Model\", align=\"center\")\n",
        "    plt.bar([p + 0.4 for p in x], df[\"Untrained BLEU Score\"], width=0.4, label=\"Untrained Model\", align=\"center\")\n",
        "    plt.xticks([p + 0.2 for p in x], df[\"Prompt\"], rotation=45)\n",
        "    plt.title(\"BLEU Score Comparison\", fontsize=16)\n",
        "    plt.xlabel(\"Prompts\", fontsize=12)\n",
        "    plt.ylabel(\"BLEU Score\", fontsize=12)\n",
        "    plt.legend()\n",
        "    plt.show()\n",
        "\n",
        "    # 감정 분석 결과 비교\n",
        "    trained_sentiment_counts = df[\"Trained Sentiment\"].value_counts()\n",
        "    untrained_sentiment_counts = df[\"Untrained Sentiment\"].value_counts()\n",
        "\n",
        "    sentiments = list(set(trained_sentiment_counts.index).union(set(untrained_sentiment_counts.index)))\n",
        "    trained_counts = [trained_sentiment_counts.get(sent, 0) for sent in sentiments]\n",
        "    untrained_counts = [untrained_sentiment_counts.get(sent, 0) for sent in sentiments]\n",
        "\n",
        "    bar_width = 0.4\n",
        "    x = range(len(sentiments))\n",
        "\n",
        "    plt.figure(figsize=(8, 5))\n",
        "    plt.bar(x, trained_counts, width=bar_width, label=\"Trained Model\", align=\"center\")\n",
        "    plt.bar([p + bar_width for p in x], untrained_counts, width=bar_width, label=\"Untrained Model\", align=\"center\")\n",
        "    plt.xticks([p + bar_width / 2 for p in x], sentiments)\n",
        "    plt.title(\"Sentiment Analysis Comparison\", fontsize=16)\n",
        "    plt.xlabel(\"Sentiment\", fontsize=12)\n",
        "    plt.ylabel(\"Count\", fontsize=12)\n",
        "    plt.legend()\n",
        "    plt.show()\n",
        "\n",
        "# 시각화 결과 출력\n",
        "visualize_comparison(comparison_df)\n"
      ],
      "metadata": {
        "id": "GI_f6KRfUoBi",
        "colab": {
          "base_uri": "https://localhost:8080/",
          "height": 1000
        },
        "outputId": "2aceecab-f57e-4a9b-9257-a1a322764061"
      },
      "execution_count": null,
      "outputs": [
        {
          "output_type": "stream",
          "name": "stderr",
          "text": [
            "Hardware accelerator e.g. GPU is available in the environment, but no `device` argument is passed to the `Pipeline` object. Model will be on CPU.\n",
            "Truncation was not explicitly activated but `max_length` is provided a specific value, please use `truncation=True` to explicitly truncate examples to max length. Defaulting to 'longest_first' truncation strategy. If you encode pairs of sequences (GLUE-style) with the tokenizer you can select this strategy more precisely by providing a specific strategy to `truncation`.\n"
          ]
        },
        {
          "output_type": "stream",
          "name": "stdout",
          "text": [
            "\n",
            "--- Comparison for Prompt 1 ---\n",
            "Prompt: We\n",
            "\n",
            "Trained Model:\n",
            "Generated Text: We have heard all the confessions and the confessions of women already in the house. odin made no such statement again.\n",
            "Sentiment: Negative\n",
            "BLEU Score: 0.2445\n",
            "\n",
            "Untrained Model:\n",
            "Generated Text: We\n",
            "\n",
            "H.T.L.P.\n",
            "\n",
            "The Lighthouse\n",
            "\n",
            "The lighthouse was built in 1604 at what is now The Landing on the Gulf of St. Thomas in Louisiana. Located just off the shores of Lake Charles in Maine in the middle of the American Atlantic Ocean, its name is \"Lighthouse Hill\". It has been a popular spot among locals and visitors.\n",
            "\n",
            "Lighthouse Hill is one of the oldest known lighthouse basins in Northern England and New Jersey.\n",
            "Sentiment: Positive\n",
            "BLEU Score: 0.1340\n",
            "--------------------------------------------------\n",
            "\n",
            "--- Comparison for Prompt 2 ---\n",
            "Prompt: The day was bright\n",
            "\n",
            "Trained Model:\n",
            "Generated Text: The day was bright and warm. The sun was shining brightly.\n",
            "Sentiment: Positive\n",
            "BLEU Score: 0.0564\n",
            "\n",
            "Untrained Model:\n",
            "Generated Text: The day was bright. No people were going to walk down the street.\n",
            "\n",
            "Advertisement Continue reading the main story\n",
            "\n",
            "Advertisement Continue reading the main story\n",
            "\n",
            "It was the sixth day in a row that the city was under siege in such a manner that hundreds of people had died. In one such incident, the authorities stormed the front gate of the city's city center in a show of force as police officers tried to keep the people on the road out of the street.\n",
            "\n",
            "\"They\n",
            "Sentiment: Negative\n",
            "BLEU Score: 0.0706\n",
            "--------------------------------------------------\n",
            "\n",
            "--- Comparison for Prompt 3 ---\n",
            "Prompt: she\n",
            "\n",
            "Trained Model:\n",
            "Generated Text: she, she must have her own daughter, she cried, and she is dying of a fever, but all the mothers she knows do not care for one another, neither in the houses of her two daughters. He did not speak to me. I thought he must be busy, and did not send me his message, though I was expecting him. But you said so much afterwards, that I could not be certain whether he heard or not. I did not know him at the time when he had\n",
            "Sentiment: Negative\n",
            "BLEU Score: 0.2283\n",
            "\n",
            "Untrained Model:\n",
            "Generated Text: she to my friends, and I'd just left them together, I said, 'Please let's go and pick it up. If you guys are all right…well, then you were so lucky and I'm happy.'\"\n",
            "\n",
            "The song is part of a collection of original compositions composed by former members of the band that have inspired a lot of his songs, including \"I'm Looking for You In the Garden\" by The Beatles and \"Dancer,\" two songs based around a love letter from\n",
            "Sentiment: Positive\n",
            "BLEU Score: 0.0624\n",
            "--------------------------------------------------\n"
          ]
        },
        {
          "output_type": "display_data",
          "data": {
            "text/plain": [
              "<Figure size 1000x500 with 1 Axes>"
            ],
            "image/png": "[encoded data removed]"
          },
          "metadata": {}
        },
        {
          "output_type": "display_data",
          "data": {
            "text/plain": [
              "<Figure size 800x500 with 1 Axes>"
            ],
            "image/png": "[encoded data removed]"
          },
          "metadata": {}
        }
      ]
    }
  ]
}